{
 "cells": [
  {
   "cell_type": "code",
   "execution_count": 1,
   "metadata": {},
   "outputs": [],
   "source": [
    "# Fine tuning with Pretrained network"
   ]
  },
  {
   "cell_type": "code",
   "execution_count": null,
   "metadata": {},
   "outputs": [],
   "source": []
  },
  {
   "cell_type": "code",
   "execution_count": 2,
   "metadata": {},
   "outputs": [],
   "source": [
    "import os\n",
    "import numpy as np\n",
    "from tensorflow.keras.preprocessing.image import ImageDataGenerator\n",
    "from tensorflow.keras import optimizers"
   ]
  },
  {
   "cell_type": "code",
   "execution_count": null,
   "metadata": {},
   "outputs": [],
   "source": []
  },
  {
   "cell_type": "code",
   "execution_count": 3,
   "metadata": {},
   "outputs": [],
   "source": [
    "base_dir = r'c:\\Download\\catsdogs\\cats_and_dogs_small'"
   ]
  },
  {
   "cell_type": "code",
   "execution_count": 4,
   "metadata": {},
   "outputs": [],
   "source": [
    "train_dir = os.path.join(base_dir, 'train')\n",
    "validation_dir = os.path.join(base_dir, 'validation')\n",
    "test_dir = os.path.join(base_dir, 'test')"
   ]
  },
  {
   "cell_type": "code",
   "execution_count": null,
   "metadata": {},
   "outputs": [],
   "source": []
  },
  {
   "cell_type": "code",
   "execution_count": 5,
   "metadata": {},
   "outputs": [],
   "source": [
    "train_datagen = ImageDataGenerator(rescale=1./255,\n",
    "                                   rotation_range=40,\n",
    "                                   width_shift_range=0.2,\n",
    "                                   height_shift_range=0.2,\n",
    "                                   shear_range=0.2,\n",
    "                                   zoom_range=0.2,\n",
    "                                   horizontal_flip=True,\n",
    "                                   fill_mode='nearest')"
   ]
  },
  {
   "cell_type": "code",
   "execution_count": 6,
   "metadata": {},
   "outputs": [],
   "source": [
    "# Test data should not be Augmented"
   ]
  },
  {
   "cell_type": "code",
   "execution_count": 7,
   "metadata": {},
   "outputs": [],
   "source": [
    "test_datagen = ImageDataGenerator(rescale=1./255)"
   ]
  },
  {
   "cell_type": "code",
   "execution_count": null,
   "metadata": {},
   "outputs": [],
   "source": []
  },
  {
   "cell_type": "code",
   "execution_count": 8,
   "metadata": {},
   "outputs": [
    {
     "name": "stdout",
     "output_type": "stream",
     "text": [
      "Found 2000 images belonging to 2 classes.\n"
     ]
    }
   ],
   "source": [
    "train_generator = train_datagen.flow_from_directory(train_dir,\n",
    "                                                    target_size=(150, 150),\n",
    "                                                    batch_size=20,\n",
    "                                                    class_mode='binary')"
   ]
  },
  {
   "cell_type": "code",
   "execution_count": null,
   "metadata": {},
   "outputs": [],
   "source": []
  },
  {
   "cell_type": "code",
   "execution_count": 9,
   "metadata": {},
   "outputs": [
    {
     "name": "stdout",
     "output_type": "stream",
     "text": [
      "Found 1000 images belonging to 2 classes.\n"
     ]
    }
   ],
   "source": [
    "validation_generator = test_datagen.flow_from_directory(validation_dir,\n",
    "                                                        target_size=(150, 150),\n",
    "                                                        batch_size=20,\n",
    "                                                        class_mode='binary')"
   ]
  },
  {
   "cell_type": "code",
   "execution_count": null,
   "metadata": {},
   "outputs": [],
   "source": []
  },
  {
   "cell_type": "code",
   "execution_count": null,
   "metadata": {},
   "outputs": [],
   "source": []
  },
  {
   "cell_type": "code",
   "execution_count": 10,
   "metadata": {},
   "outputs": [],
   "source": [
    "# Instantiating the VGG16 convolutional base"
   ]
  },
  {
   "cell_type": "code",
   "execution_count": 11,
   "metadata": {},
   "outputs": [],
   "source": [
    "from tensorflow.keras.applications import VGG16"
   ]
  },
  {
   "cell_type": "code",
   "execution_count": null,
   "metadata": {},
   "outputs": [],
   "source": []
  },
  {
   "cell_type": "code",
   "execution_count": 12,
   "metadata": {},
   "outputs": [],
   "source": [
    "conv_base = VGG16(weights='imagenet',\n",
    "                  include_top=False,\n",
    "                  input_shape=(150, 150, 3))"
   ]
  },
  {
   "cell_type": "code",
   "execution_count": null,
   "metadata": {},
   "outputs": [],
   "source": []
  },
  {
   "cell_type": "code",
   "execution_count": 13,
   "metadata": {},
   "outputs": [
    {
     "name": "stdout",
     "output_type": "stream",
     "text": [
      "Model: \"vgg16\"\n",
      "_________________________________________________________________\n",
      "Layer (type)                 Output Shape              Param #   \n",
      "=================================================================\n",
      "input_1 (InputLayer)         [(None, 150, 150, 3)]     0         \n",
      "_________________________________________________________________\n",
      "block1_conv1 (Conv2D)        (None, 150, 150, 64)      1792      \n",
      "_________________________________________________________________\n",
      "block1_conv2 (Conv2D)        (None, 150, 150, 64)      36928     \n",
      "_________________________________________________________________\n",
      "block1_pool (MaxPooling2D)   (None, 75, 75, 64)        0         \n",
      "_________________________________________________________________\n",
      "block2_conv1 (Conv2D)        (None, 75, 75, 128)       73856     \n",
      "_________________________________________________________________\n",
      "block2_conv2 (Conv2D)        (None, 75, 75, 128)       147584    \n",
      "_________________________________________________________________\n",
      "block2_pool (MaxPooling2D)   (None, 37, 37, 128)       0         \n",
      "_________________________________________________________________\n",
      "block3_conv1 (Conv2D)        (None, 37, 37, 256)       295168    \n",
      "_________________________________________________________________\n",
      "block3_conv2 (Conv2D)        (None, 37, 37, 256)       590080    \n",
      "_________________________________________________________________\n",
      "block3_conv3 (Conv2D)        (None, 37, 37, 256)       590080    \n",
      "_________________________________________________________________\n",
      "block3_pool (MaxPooling2D)   (None, 18, 18, 256)       0         \n",
      "_________________________________________________________________\n",
      "block4_conv1 (Conv2D)        (None, 18, 18, 512)       1180160   \n",
      "_________________________________________________________________\n",
      "block4_conv2 (Conv2D)        (None, 18, 18, 512)       2359808   \n",
      "_________________________________________________________________\n",
      "block4_conv3 (Conv2D)        (None, 18, 18, 512)       2359808   \n",
      "_________________________________________________________________\n",
      "block4_pool (MaxPooling2D)   (None, 9, 9, 512)         0         \n",
      "_________________________________________________________________\n",
      "block5_conv1 (Conv2D)        (None, 9, 9, 512)         2359808   \n",
      "_________________________________________________________________\n",
      "block5_conv2 (Conv2D)        (None, 9, 9, 512)         2359808   \n",
      "_________________________________________________________________\n",
      "block5_conv3 (Conv2D)        (None, 9, 9, 512)         2359808   \n",
      "_________________________________________________________________\n",
      "block5_pool (MaxPooling2D)   (None, 4, 4, 512)         0         \n",
      "=================================================================\n",
      "Total params: 14,714,688\n",
      "Trainable params: 14,714,688\n",
      "Non-trainable params: 0\n",
      "_________________________________________________________________\n"
     ]
    }
   ],
   "source": [
    "conv_base.summary()"
   ]
  },
  {
   "cell_type": "code",
   "execution_count": null,
   "metadata": {},
   "outputs": [],
   "source": []
  },
  {
   "cell_type": "code",
   "execution_count": 14,
   "metadata": {},
   "outputs": [],
   "source": [
    "# fine-tune the last three convolutional layers, which means all layers up to\n",
    "# block4_pool should be frozen, and the layers block5_conv1, block5_conv2, and\n",
    "# block5_conv3 should be trainable"
   ]
  },
  {
   "cell_type": "code",
   "execution_count": null,
   "metadata": {},
   "outputs": [],
   "source": []
  },
  {
   "cell_type": "code",
   "execution_count": 15,
   "metadata": {},
   "outputs": [],
   "source": [
    "# Freezing all layers up to a specific one"
   ]
  },
  {
   "cell_type": "code",
   "execution_count": 16,
   "metadata": {},
   "outputs": [],
   "source": [
    "conv_base.trainable = True"
   ]
  },
  {
   "cell_type": "code",
   "execution_count": 17,
   "metadata": {},
   "outputs": [],
   "source": [
    "set_trainable = False"
   ]
  },
  {
   "cell_type": "code",
   "execution_count": 18,
   "metadata": {},
   "outputs": [],
   "source": [
    "for layer in conv_base.layers:\n",
    "    if layer.name == 'block5_conv1':\n",
    "        set_trainable = True\n",
    "        if set_trainable:\n",
    "            layer.trainable = True\n",
    "        else:\n",
    "            layer.trainable = False"
   ]
  },
  {
   "cell_type": "code",
   "execution_count": null,
   "metadata": {},
   "outputs": [],
   "source": []
  },
  {
   "cell_type": "code",
   "execution_count": null,
   "metadata": {},
   "outputs": [],
   "source": [
    "# Adding a densely connected classifier on top of the convolutional base"
   ]
  },
  {
   "cell_type": "code",
   "execution_count": 21,
   "metadata": {},
   "outputs": [],
   "source": [
    "from tensorflow.keras import models\n",
    "from tensorflow.keras import layers"
   ]
  },
  {
   "cell_type": "code",
   "execution_count": null,
   "metadata": {},
   "outputs": [],
   "source": []
  },
  {
   "cell_type": "code",
   "execution_count": 22,
   "metadata": {},
   "outputs": [],
   "source": [
    "model = models.Sequential()\n",
    "model.add(conv_base)\n",
    "model.add(layers.Flatten())\n",
    "model.add(layers.Dense(256, activation='relu'))\n",
    "model.add(layers.Dense(1, activation='sigmoid'))"
   ]
  },
  {
   "cell_type": "code",
   "execution_count": null,
   "metadata": {},
   "outputs": [],
   "source": []
  },
  {
   "cell_type": "code",
   "execution_count": null,
   "metadata": {},
   "outputs": [],
   "source": []
  },
  {
   "cell_type": "code",
   "execution_count": 23,
   "metadata": {},
   "outputs": [],
   "source": [
    "# Fine-tuning the model"
   ]
  },
  {
   "cell_type": "code",
   "execution_count": 24,
   "metadata": {},
   "outputs": [],
   "source": [
    "model.compile(loss='binary_crossentropy',\n",
    "              optimizer=optimizers.RMSprop(lr=1e-5),\n",
    "              metrics=['accuracy'])"
   ]
  },
  {
   "cell_type": "code",
   "execution_count": null,
   "metadata": {},
   "outputs": [],
   "source": []
  },
  {
   "cell_type": "code",
   "execution_count": 25,
   "metadata": {},
   "outputs": [
    {
     "name": "stdout",
     "output_type": "stream",
     "text": [
      "WARNING:tensorflow:From <ipython-input-25-507e4209fa54>:5: Model.fit_generator (from tensorflow.python.keras.engine.training) is deprecated and will be removed in a future version.\n",
      "Instructions for updating:\n",
      "Please use Model.fit, which supports generators.\n",
      "Epoch 1/100\n",
      "  2/100 [..............................] - ETA: 18s - loss: 0.6971 - accuracy: 0.5250WARNING:tensorflow:Callbacks method `on_train_batch_end` is slow compared to the batch time (batch time: 0.1314s vs `on_train_batch_end` time: 0.2227s). Check your callbacks.\n",
      "100/100 [==============================] - 80s 798ms/step - loss: 0.4620 - accuracy: 0.7780 - val_loss: 0.2090 - val_accuracy: 0.9210\n",
      "Epoch 2/100\n",
      "100/100 [==============================] - 41s 409ms/step - loss: 0.2753 - accuracy: 0.8865 - val_loss: 0.1770 - val_accuracy: 0.9270\n",
      "Epoch 3/100\n",
      "100/100 [==============================] - 41s 410ms/step - loss: 0.2224 - accuracy: 0.9040 - val_loss: 0.1378 - val_accuracy: 0.9410\n",
      "Epoch 4/100\n",
      "100/100 [==============================] - 41s 411ms/step - loss: 0.1936 - accuracy: 0.9250 - val_loss: 0.1111 - val_accuracy: 0.9540\n",
      "Epoch 5/100\n",
      "100/100 [==============================] - 41s 411ms/step - loss: 0.1693 - accuracy: 0.9255 - val_loss: 0.1149 - val_accuracy: 0.9570\n",
      "Epoch 6/100\n",
      "100/100 [==============================] - 41s 411ms/step - loss: 0.1587 - accuracy: 0.9325 - val_loss: 0.0962 - val_accuracy: 0.9640\n",
      "Epoch 7/100\n",
      "100/100 [==============================] - 41s 411ms/step - loss: 0.1302 - accuracy: 0.9470 - val_loss: 0.1370 - val_accuracy: 0.9430\n",
      "Epoch 8/100\n",
      "100/100 [==============================] - 41s 411ms/step - loss: 0.1143 - accuracy: 0.9550 - val_loss: 0.0848 - val_accuracy: 0.9640\n",
      "Epoch 9/100\n",
      "100/100 [==============================] - 39s 393ms/step - loss: 0.1153 - accuracy: 0.9570 - val_loss: 0.0847 - val_accuracy: 0.9670\n",
      "Epoch 10/100\n",
      "100/100 [==============================] - 33s 326ms/step - loss: 0.1056 - accuracy: 0.9600 - val_loss: 0.1036 - val_accuracy: 0.9650\n",
      "Epoch 11/100\n",
      "100/100 [==============================] - 33s 326ms/step - loss: 0.0917 - accuracy: 0.9645 - val_loss: 0.0811 - val_accuracy: 0.9660\n",
      "Epoch 12/100\n",
      "100/100 [==============================] - 33s 326ms/step - loss: 0.0926 - accuracy: 0.9650 - val_loss: 0.1024 - val_accuracy: 0.9540\n",
      "Epoch 13/100\n",
      "100/100 [==============================] - 33s 327ms/step - loss: 0.0832 - accuracy: 0.9665 - val_loss: 0.1303 - val_accuracy: 0.9590\n",
      "Epoch 14/100\n",
      "100/100 [==============================] - 33s 328ms/step - loss: 0.0742 - accuracy: 0.9720 - val_loss: 0.1218 - val_accuracy: 0.9560\n",
      "Epoch 15/100\n",
      "100/100 [==============================] - 33s 327ms/step - loss: 0.0653 - accuracy: 0.9740 - val_loss: 0.1835 - val_accuracy: 0.9400\n",
      "Epoch 16/100\n",
      "100/100 [==============================] - 33s 327ms/step - loss: 0.0625 - accuracy: 0.9790 - val_loss: 0.1007 - val_accuracy: 0.9640\n",
      "Epoch 17/100\n",
      "100/100 [==============================] - 33s 327ms/step - loss: 0.0535 - accuracy: 0.9790 - val_loss: 0.1795 - val_accuracy: 0.9470\n",
      "Epoch 18/100\n",
      "100/100 [==============================] - 33s 327ms/step - loss: 0.0595 - accuracy: 0.9795 - val_loss: 0.1219 - val_accuracy: 0.9650\n",
      "Epoch 19/100\n",
      "100/100 [==============================] - 33s 327ms/step - loss: 0.0436 - accuracy: 0.9855 - val_loss: 0.0852 - val_accuracy: 0.9730\n",
      "Epoch 20/100\n",
      "100/100 [==============================] - 33s 327ms/step - loss: 0.0407 - accuracy: 0.9865 - val_loss: 0.0933 - val_accuracy: 0.9640\n",
      "Epoch 21/100\n",
      "100/100 [==============================] - 33s 327ms/step - loss: 0.0546 - accuracy: 0.9810 - val_loss: 0.0782 - val_accuracy: 0.9700\n",
      "Epoch 22/100\n",
      "100/100 [==============================] - 33s 327ms/step - loss: 0.0443 - accuracy: 0.9845 - val_loss: 0.1099 - val_accuracy: 0.9650\n",
      "Epoch 23/100\n",
      "100/100 [==============================] - 33s 327ms/step - loss: 0.0439 - accuracy: 0.9835 - val_loss: 0.0928 - val_accuracy: 0.9760\n",
      "Epoch 24/100\n",
      "100/100 [==============================] - 33s 327ms/step - loss: 0.0315 - accuracy: 0.9895 - val_loss: 0.4782 - val_accuracy: 0.9070\n",
      "Epoch 25/100\n",
      "100/100 [==============================] - 33s 327ms/step - loss: 0.0351 - accuracy: 0.9880 - val_loss: 0.1116 - val_accuracy: 0.9740\n",
      "Epoch 26/100\n",
      "100/100 [==============================] - 33s 327ms/step - loss: 0.0379 - accuracy: 0.9880 - val_loss: 0.1038 - val_accuracy: 0.9740\n",
      "Epoch 27/100\n",
      "100/100 [==============================] - 33s 327ms/step - loss: 0.0260 - accuracy: 0.9910 - val_loss: 0.1409 - val_accuracy: 0.9660\n",
      "Epoch 28/100\n",
      "100/100 [==============================] - 33s 327ms/step - loss: 0.0444 - accuracy: 0.9850 - val_loss: 0.3747 - val_accuracy: 0.9290\n",
      "Epoch 29/100\n",
      "100/100 [==============================] - 33s 327ms/step - loss: 0.0309 - accuracy: 0.9870 - val_loss: 0.1173 - val_accuracy: 0.9710\n",
      "Epoch 30/100\n",
      "100/100 [==============================] - 33s 327ms/step - loss: 0.0260 - accuracy: 0.9915 - val_loss: 0.1336 - val_accuracy: 0.9710\n",
      "Epoch 31/100\n",
      "100/100 [==============================] - 33s 327ms/step - loss: 0.0261 - accuracy: 0.9920 - val_loss: 0.1866 - val_accuracy: 0.9570\n",
      "Epoch 32/100\n",
      "100/100 [==============================] - 33s 327ms/step - loss: 0.0331 - accuracy: 0.9935 - val_loss: 0.1253 - val_accuracy: 0.9700\n",
      "Epoch 33/100\n",
      "100/100 [==============================] - 33s 327ms/step - loss: 0.0288 - accuracy: 0.9895 - val_loss: 0.1442 - val_accuracy: 0.9690\n",
      "Epoch 34/100\n",
      "100/100 [==============================] - 33s 327ms/step - loss: 0.0320 - accuracy: 0.9880 - val_loss: 0.1227 - val_accuracy: 0.9730\n",
      "Epoch 35/100\n",
      "100/100 [==============================] - 33s 327ms/step - loss: 0.0222 - accuracy: 0.9930 - val_loss: 0.1388 - val_accuracy: 0.9770\n",
      "Epoch 36/100\n",
      "100/100 [==============================] - 33s 327ms/step - loss: 0.0257 - accuracy: 0.9925 - val_loss: 0.1398 - val_accuracy: 0.9680\n",
      "Epoch 37/100\n",
      "100/100 [==============================] - 33s 327ms/step - loss: 0.0387 - accuracy: 0.9880 - val_loss: 0.2294 - val_accuracy: 0.9540\n",
      "Epoch 38/100\n",
      "100/100 [==============================] - 33s 327ms/step - loss: 0.0326 - accuracy: 0.9900 - val_loss: 0.6265 - val_accuracy: 0.9000\n",
      "Epoch 39/100\n",
      "100/100 [==============================] - 33s 327ms/step - loss: 0.0195 - accuracy: 0.9925 - val_loss: 0.1751 - val_accuracy: 0.9680\n",
      "Epoch 40/100\n",
      "100/100 [==============================] - 33s 327ms/step - loss: 0.0179 - accuracy: 0.9950 - val_loss: 0.1572 - val_accuracy: 0.9670\n",
      "Epoch 41/100\n",
      "100/100 [==============================] - 33s 327ms/step - loss: 0.0302 - accuracy: 0.9910 - val_loss: 0.1432 - val_accuracy: 0.9690\n",
      "Epoch 42/100\n",
      "100/100 [==============================] - 33s 326ms/step - loss: 0.0242 - accuracy: 0.9930 - val_loss: 0.1321 - val_accuracy: 0.9670\n",
      "Epoch 43/100\n",
      "100/100 [==============================] - 33s 326ms/step - loss: 0.0290 - accuracy: 0.9900 - val_loss: 0.1445 - val_accuracy: 0.9690\n",
      "Epoch 44/100\n",
      "100/100 [==============================] - 33s 327ms/step - loss: 0.0206 - accuracy: 0.9925 - val_loss: 0.1292 - val_accuracy: 0.9750\n",
      "Epoch 45/100\n",
      "100/100 [==============================] - 33s 326ms/step - loss: 0.0239 - accuracy: 0.9920 - val_loss: 0.1576 - val_accuracy: 0.9700\n",
      "Epoch 46/100\n",
      "100/100 [==============================] - 33s 327ms/step - loss: 0.0200 - accuracy: 0.9920 - val_loss: 0.1424 - val_accuracy: 0.9740\n",
      "Epoch 47/100\n",
      "100/100 [==============================] - 33s 327ms/step - loss: 0.0199 - accuracy: 0.9945 - val_loss: 0.3844 - val_accuracy: 0.9270\n",
      "Epoch 48/100\n",
      "100/100 [==============================] - 33s 327ms/step - loss: 0.0232 - accuracy: 0.9900 - val_loss: 0.1134 - val_accuracy: 0.9660\n",
      "Epoch 49/100\n",
      "100/100 [==============================] - 33s 326ms/step - loss: 0.0218 - accuracy: 0.9920 - val_loss: 0.1591 - val_accuracy: 0.9640\n",
      "Epoch 50/100\n",
      "100/100 [==============================] - 33s 326ms/step - loss: 0.0128 - accuracy: 0.9955 - val_loss: 0.1207 - val_accuracy: 0.9730\n",
      "Epoch 51/100\n",
      "100/100 [==============================] - 33s 327ms/step - loss: 0.0220 - accuracy: 0.9940 - val_loss: 0.1310 - val_accuracy: 0.9700\n",
      "Epoch 52/100\n",
      "100/100 [==============================] - 33s 327ms/step - loss: 0.0137 - accuracy: 0.9955 - val_loss: 0.1549 - val_accuracy: 0.9690\n",
      "Epoch 53/100\n"
     ]
    },
    {
     "name": "stdout",
     "output_type": "stream",
     "text": [
      "100/100 [==============================] - 33s 326ms/step - loss: 0.0075 - accuracy: 0.9960 - val_loss: 0.2093 - val_accuracy: 0.9650\n",
      "Epoch 54/100\n",
      "100/100 [==============================] - 33s 326ms/step - loss: 0.0199 - accuracy: 0.9935 - val_loss: 0.1824 - val_accuracy: 0.9670\n",
      "Epoch 55/100\n",
      "100/100 [==============================] - 33s 326ms/step - loss: 0.0211 - accuracy: 0.9920 - val_loss: 0.1390 - val_accuracy: 0.9690\n",
      "Epoch 56/100\n",
      "100/100 [==============================] - 33s 326ms/step - loss: 0.0144 - accuracy: 0.9925 - val_loss: 0.1617 - val_accuracy: 0.9720\n",
      "Epoch 57/100\n",
      "100/100 [==============================] - 33s 326ms/step - loss: 0.0131 - accuracy: 0.9945 - val_loss: 0.1568 - val_accuracy: 0.9740\n",
      "Epoch 58/100\n",
      "100/100 [==============================] - 33s 326ms/step - loss: 0.0209 - accuracy: 0.9945 - val_loss: 0.1577 - val_accuracy: 0.9690\n",
      "Epoch 59/100\n",
      "100/100 [==============================] - 33s 326ms/step - loss: 0.0139 - accuracy: 0.9955 - val_loss: 0.2349 - val_accuracy: 0.9680\n",
      "Epoch 60/100\n",
      "100/100 [==============================] - 33s 327ms/step - loss: 0.0193 - accuracy: 0.9955 - val_loss: 0.1948 - val_accuracy: 0.9710\n",
      "Epoch 61/100\n",
      "100/100 [==============================] - 33s 326ms/step - loss: 0.0132 - accuracy: 0.9965 - val_loss: 0.2018 - val_accuracy: 0.9620\n",
      "Epoch 62/100\n",
      "100/100 [==============================] - 33s 326ms/step - loss: 0.0135 - accuracy: 0.9945 - val_loss: 0.1828 - val_accuracy: 0.9670\n",
      "Epoch 63/100\n",
      "100/100 [==============================] - 33s 327ms/step - loss: 0.0179 - accuracy: 0.9940 - val_loss: 0.1568 - val_accuracy: 0.9700\n",
      "Epoch 64/100\n",
      "100/100 [==============================] - 33s 326ms/step - loss: 0.0168 - accuracy: 0.9965 - val_loss: 0.2100 - val_accuracy: 0.9640\n",
      "Epoch 65/100\n",
      "100/100 [==============================] - 33s 326ms/step - loss: 0.0115 - accuracy: 0.9960 - val_loss: 0.2190 - val_accuracy: 0.9660\n",
      "Epoch 66/100\n",
      "100/100 [==============================] - 33s 326ms/step - loss: 0.0226 - accuracy: 0.9910 - val_loss: 0.1723 - val_accuracy: 0.9660\n",
      "Epoch 67/100\n",
      "100/100 [==============================] - 33s 326ms/step - loss: 0.0068 - accuracy: 0.9980 - val_loss: 0.1862 - val_accuracy: 0.9630\n",
      "Epoch 68/100\n",
      "100/100 [==============================] - 33s 326ms/step - loss: 0.0159 - accuracy: 0.9955 - val_loss: 0.3784 - val_accuracy: 0.9520\n",
      "Epoch 69/100\n",
      "100/100 [==============================] - 33s 326ms/step - loss: 0.0172 - accuracy: 0.9945 - val_loss: 0.3977 - val_accuracy: 0.9510\n",
      "Epoch 70/100\n",
      "100/100 [==============================] - 33s 326ms/step - loss: 0.0155 - accuracy: 0.9935 - val_loss: 0.3535 - val_accuracy: 0.9520\n",
      "Epoch 71/100\n",
      "100/100 [==============================] - 33s 326ms/step - loss: 0.0182 - accuracy: 0.9940 - val_loss: 0.1988 - val_accuracy: 0.9680\n",
      "Epoch 72/100\n",
      "100/100 [==============================] - 33s 326ms/step - loss: 0.0040 - accuracy: 0.9975 - val_loss: 0.2270 - val_accuracy: 0.9660\n",
      "Epoch 73/100\n",
      "100/100 [==============================] - 33s 326ms/step - loss: 0.0163 - accuracy: 0.9935 - val_loss: 0.2739 - val_accuracy: 0.9580\n",
      "Epoch 74/100\n",
      "100/100 [==============================] - 33s 326ms/step - loss: 0.0177 - accuracy: 0.9950 - val_loss: 0.2274 - val_accuracy: 0.9600\n",
      "Epoch 75/100\n",
      "100/100 [==============================] - 33s 326ms/step - loss: 0.0095 - accuracy: 0.9960 - val_loss: 0.4674 - val_accuracy: 0.9550\n",
      "Epoch 76/100\n",
      "100/100 [==============================] - 33s 326ms/step - loss: 0.0147 - accuracy: 0.9980 - val_loss: 0.1783 - val_accuracy: 0.9710\n",
      "Epoch 77/100\n",
      "100/100 [==============================] - 33s 326ms/step - loss: 0.0125 - accuracy: 0.9965 - val_loss: 0.2648 - val_accuracy: 0.9650\n",
      "Epoch 78/100\n",
      "100/100 [==============================] - 33s 326ms/step - loss: 0.0215 - accuracy: 0.9960 - val_loss: 0.2014 - val_accuracy: 0.9690\n",
      "Epoch 79/100\n",
      "100/100 [==============================] - 33s 326ms/step - loss: 0.0084 - accuracy: 0.9955 - val_loss: 0.3956 - val_accuracy: 0.9600\n",
      "Epoch 80/100\n",
      "100/100 [==============================] - 33s 326ms/step - loss: 0.0119 - accuracy: 0.9970 - val_loss: 0.1715 - val_accuracy: 0.9700\n",
      "Epoch 81/100\n",
      "100/100 [==============================] - 33s 326ms/step - loss: 0.0172 - accuracy: 0.9965 - val_loss: 0.1979 - val_accuracy: 0.9680\n",
      "Epoch 82/100\n",
      "100/100 [==============================] - 33s 326ms/step - loss: 0.0130 - accuracy: 0.9955 - val_loss: 0.2293 - val_accuracy: 0.9620\n",
      "Epoch 83/100\n",
      "100/100 [==============================] - 33s 326ms/step - loss: 0.0195 - accuracy: 0.9960 - val_loss: 0.1855 - val_accuracy: 0.9680\n",
      "Epoch 84/100\n",
      "100/100 [==============================] - 33s 326ms/step - loss: 0.0164 - accuracy: 0.9955 - val_loss: 0.4690 - val_accuracy: 0.9480\n",
      "Epoch 85/100\n",
      "100/100 [==============================] - 33s 326ms/step - loss: 0.0077 - accuracy: 0.9960 - val_loss: 0.2091 - val_accuracy: 0.9670\n",
      "Epoch 86/100\n",
      "100/100 [==============================] - 33s 326ms/step - loss: 0.0145 - accuracy: 0.9965 - val_loss: 0.2068 - val_accuracy: 0.9650\n",
      "Epoch 87/100\n",
      "100/100 [==============================] - 33s 326ms/step - loss: 0.0084 - accuracy: 0.9980 - val_loss: 0.2005 - val_accuracy: 0.9640\n",
      "Epoch 88/100\n",
      "100/100 [==============================] - 33s 326ms/step - loss: 0.0226 - accuracy: 0.9935 - val_loss: 0.1749 - val_accuracy: 0.9730\n",
      "Epoch 89/100\n",
      "100/100 [==============================] - 33s 326ms/step - loss: 0.0106 - accuracy: 0.9975 - val_loss: 0.3448 - val_accuracy: 0.9460\n",
      "Epoch 90/100\n",
      "100/100 [==============================] - 33s 326ms/step - loss: 0.0121 - accuracy: 0.9965 - val_loss: 0.2063 - val_accuracy: 0.9710\n",
      "Epoch 91/100\n",
      "100/100 [==============================] - 33s 326ms/step - loss: 0.0157 - accuracy: 0.9960 - val_loss: 0.1797 - val_accuracy: 0.9630\n",
      "Epoch 92/100\n",
      "100/100 [==============================] - 33s 326ms/step - loss: 0.0082 - accuracy: 0.9970 - val_loss: 0.3272 - val_accuracy: 0.9580\n",
      "Epoch 93/100\n",
      "100/100 [==============================] - 33s 326ms/step - loss: 0.0148 - accuracy: 0.9970 - val_loss: 0.2012 - val_accuracy: 0.9680\n",
      "Epoch 94/100\n",
      "100/100 [==============================] - 33s 326ms/step - loss: 0.0094 - accuracy: 0.9960 - val_loss: 0.2483 - val_accuracy: 0.9700\n",
      "Epoch 95/100\n",
      "100/100 [==============================] - 33s 326ms/step - loss: 0.0097 - accuracy: 0.9980 - val_loss: 0.3362 - val_accuracy: 0.9620\n",
      "Epoch 96/100\n",
      "100/100 [==============================] - 33s 326ms/step - loss: 0.0085 - accuracy: 0.9970 - val_loss: 0.3541 - val_accuracy: 0.9550\n",
      "Epoch 97/100\n",
      "100/100 [==============================] - 33s 325ms/step - loss: 0.0171 - accuracy: 0.9965 - val_loss: 0.2081 - val_accuracy: 0.9640\n",
      "Epoch 98/100\n",
      "100/100 [==============================] - 33s 326ms/step - loss: 0.0120 - accuracy: 0.9950 - val_loss: 0.2208 - val_accuracy: 0.9660\n",
      "Epoch 99/100\n",
      "100/100 [==============================] - 33s 326ms/step - loss: 0.0094 - accuracy: 0.9980 - val_loss: 0.2844 - val_accuracy: 0.9710\n",
      "Epoch 100/100\n",
      "100/100 [==============================] - 33s 326ms/step - loss: 0.0146 - accuracy: 0.9960 - val_loss: 0.2223 - val_accuracy: 0.9710\n"
     ]
    }
   ],
   "source": [
    "history = model.fit_generator(train_generator,\n",
    "                              steps_per_epoch=100,\n",
    "                              epochs=100,\n",
    "                              validation_data=validation_generator,\n",
    "                              validation_steps=50)"
   ]
  },
  {
   "cell_type": "code",
   "execution_count": null,
   "metadata": {},
   "outputs": [],
   "source": []
  },
  {
   "cell_type": "code",
   "execution_count": null,
   "metadata": {},
   "outputs": [],
   "source": [
    "# Plotting the results"
   ]
  },
  {
   "cell_type": "code",
   "execution_count": 26,
   "metadata": {},
   "outputs": [],
   "source": [
    "import matplotlib.pyplot as plt"
   ]
  },
  {
   "cell_type": "code",
   "execution_count": 27,
   "metadata": {},
   "outputs": [],
   "source": [
    "acc = history.history['accuracy']\n",
    "val_acc = history.history['val_accuracy']\n",
    "loss = history.history['loss']\n",
    "val_loss = history.history['val_loss']"
   ]
  },
  {
   "cell_type": "code",
   "execution_count": 28,
   "metadata": {},
   "outputs": [],
   "source": [
    "epochs = range(1, len(acc) + 1)"
   ]
  },
  {
   "cell_type": "code",
   "execution_count": 29,
   "metadata": {},
   "outputs": [
    {
     "data": {
      "image/png": "[encoded data removed]",
      "text/plain": [
       "<Figure size 432x288 with 1 Axes>"
      ]
     },
     "metadata": {
      "needs_background": "light"
     },
     "output_type": "display_data"
    },
    {
     "data": {
      "image/png": "[encoded data removed]",
      "text/plain": [
       "<Figure size 432x288 with 1 Axes>"
      ]
     },
     "metadata": {
      "needs_background": "light"
     },
     "output_type": "display_data"
    }
   ],
   "source": [
    "plt.plot(epochs, acc, 'bo', label='Training acc')\n",
    "plt.plot(epochs, val_acc, 'b', label='Validation acc')\n",
    "plt.title('Training and validation accuracy')\n",
    "plt.legend()\n",
    "\n",
    "plt.figure()\n",
    "\n",
    "plt.plot(epochs, loss, 'bo', label='Training loss')\n",
    "plt.plot(epochs, val_loss, 'b', label='Validation loss')\n",
    "plt.title('Training and validation loss')\n",
    "plt.legend()\n",
    "\n",
    "plt.show()"
   ]
  },
  {
   "cell_type": "code",
   "execution_count": null,
   "metadata": {},
   "outputs": [],
   "source": []
  },
  {
   "cell_type": "code",
   "execution_count": null,
   "metadata": {},
   "outputs": [],
   "source": [
    "# finally evaluate this model on the test data"
   ]
  },
  {
   "cell_type": "code",
   "execution_count": null,
   "metadata": {},
   "outputs": [],
   "source": []
  },
  {
   "cell_type": "code",
   "execution_count": 30,
   "metadata": {},
   "outputs": [
    {
     "name": "stdout",
     "output_type": "stream",
     "text": [
      "Found 1000 images belonging to 2 classes.\n"
     ]
    }
   ],
   "source": [
    "test_generator = test_datagen.flow_from_directory(test_dir,\n",
    "                                                  target_size=(150, 150),\n",
    "                                                  batch_size=20,\n",
    "                                                  class_mode='binary')"
   ]
  },
  {
   "cell_type": "code",
   "execution_count": null,
   "metadata": {},
   "outputs": [],
   "source": []
  },
  {
   "cell_type": "code",
   "execution_count": 31,
   "metadata": {},
   "outputs": [
    {
     "name": "stdout",
     "output_type": "stream",
     "text": [
      "WARNING:tensorflow:From <ipython-input-31-4f5a80c4251a>:1: Model.evaluate_generator (from tensorflow.python.keras.engine.training) is deprecated and will be removed in a future version.\n",
      "Instructions for updating:\n",
      "Please use Model.evaluate, which supports generators.\n"
     ]
    }
   ],
   "source": [
    "test_loss, test_acc = model.evaluate_generator(test_generator, steps=50)"
   ]
  },
  {
   "cell_type": "code",
   "execution_count": null,
   "metadata": {},
   "outputs": [],
   "source": []
  },
  {
   "cell_type": "code",
   "execution_count": 32,
   "metadata": {},
   "outputs": [
    {
     "name": "stdout",
     "output_type": "stream",
     "text": [
      "test acc: 0.9610000252723694\n"
     ]
    }
   ],
   "source": [
    "print('test acc:', test_acc)"
   ]
  },
  {
   "cell_type": "code",
   "execution_count": 34,
   "metadata": {},
   "outputs": [
    {
     "name": "stdout",
     "output_type": "stream",
     "text": [
      "96.0\n"
     ]
    }
   ],
   "source": [
    "print(round(test_acc,2)*100)"
   ]
  },
  {
   "cell_type": "code",
   "execution_count": null,
   "metadata": {},
   "outputs": [],
   "source": []
  }
 ],
 "metadata": {
  "kernelspec": {
   "display_name": "Python 3",
   "language": "python",
   "name": "python3"
  },
  "language_info": {
   "codemirror_mode": {
    "name": "ipython",
    "version": 3
   },
   "file_extension": ".py",
   "mimetype": "text/x-python",
   "name": "python",
   "nbconvert_exporter": "python",
   "pygments_lexer": "ipython3",
   "version": "3.7.1"
  }
 },
 "nbformat": 4,
 "nbformat_minor": 4
}
